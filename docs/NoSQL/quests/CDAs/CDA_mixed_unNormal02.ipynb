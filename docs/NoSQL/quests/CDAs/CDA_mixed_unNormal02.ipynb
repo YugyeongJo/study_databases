{
  "nbformat": 4,
  "nbformat_minor": 0,
  "metadata": {
    "colab": {
      "provenance": [],
      "authorship_tag": "ABX9TyMr5DCPHr9zM/Aqd5Ke8I2Q",
      "include_colab_link": true
    },
    "kernelspec": {
      "name": "python3",
      "display_name": "Python 3"
    },
    "language_info": {
      "name": "python"
    }
  },
  "cells": [
    {
      "cell_type": "markdown",
      "metadata": {
        "id": "view-in-github",
        "colab_type": "text"
      },
      "source": [
        "<a href=\"https://colab.research.google.com/github/YugyeongJo/study_databases/blob/main/docs/quests/CDAs/CDA_mixed_unNormal02.ipynb\" target=\"_parent\"><img src=\"https://colab.research.google.com/assets/colab-badge.svg\" alt=\"Open In Colab\"/></a>"
      ]
    },
    {
      "cell_type": "code",
      "source": [
        "### 한글 폰트 설치\n",
        "!apt-get install -y fonts-nanum\n",
        "!fc-cache -fv\n",
        "!rm ~/.cache/matplotlib -rf\n",
        "# 설치 후 colab의 경우 Runtime > Restart session 필요"
      ],
      "metadata": {
        "colab": {
          "base_uri": "https://localhost:8080/"
        },
        "id": "Z_01QhUZThXm",
        "outputId": "8822f306-5745-4212-9f4e-5872c775aa9c"
      },
      "execution_count": 35,
      "outputs": [
        {
          "output_type": "stream",
          "name": "stdout",
          "text": [
            "Reading package lists... Done\n",
            "Building dependency tree... Done\n",
            "Reading state information... Done\n",
            "fonts-nanum is already the newest version (20200506-1).\n",
            "0 upgraded, 0 newly installed, 0 to remove and 32 not upgraded.\n",
            "/usr/share/fonts: caching, new cache contents: 0 fonts, 1 dirs\n",
            "/usr/share/fonts/truetype: caching, new cache contents: 0 fonts, 3 dirs\n",
            "/usr/share/fonts/truetype/humor-sans: caching, new cache contents: 1 fonts, 0 dirs\n",
            "/usr/share/fonts/truetype/liberation: caching, new cache contents: 16 fonts, 0 dirs\n",
            "/usr/share/fonts/truetype/nanum: caching, new cache contents: 12 fonts, 0 dirs\n",
            "/usr/local/share/fonts: caching, new cache contents: 0 fonts, 0 dirs\n",
            "/root/.local/share/fonts: skipping, no such directory\n",
            "/root/.fonts: skipping, no such directory\n",
            "/usr/share/fonts/truetype: skipping, looped directory detected\n",
            "/usr/share/fonts/truetype/humor-sans: skipping, looped directory detected\n",
            "/usr/share/fonts/truetype/liberation: skipping, looped directory detected\n",
            "/usr/share/fonts/truetype/nanum: skipping, looped directory detected\n",
            "/var/cache/fontconfig: cleaning cache directory\n",
            "/root/.cache/fontconfig: not cleaning non-existent cache directory\n",
            "/root/.fontconfig: not cleaning non-existent cache directory\n",
            "fc-cache: succeeded\n"
          ]
        }
      ]
    },
    {
      "cell_type": "code",
      "source": [
        "import matplotlib.pyplot as plt\n",
        "import matplotlib as mpl\n",
        "mpl.rc('font', family='NanumBarunGothic') # 혹은 다른 설치한 Nanum 폰트 사용"
      ],
      "metadata": {
        "id": "xE84A9PpTmkm"
      },
      "execution_count": 36,
      "outputs": []
    },
    {
      "cell_type": "markdown",
      "source": [
        "## load dataset"
      ],
      "metadata": {
        "id": "heldGUgBGqId"
      }
    },
    {
      "cell_type": "code",
      "execution_count": 37,
      "metadata": {
        "colab": {
          "base_uri": "https://localhost:8080/",
          "height": 310
        },
        "id": "_kiaMOQ8FEmp",
        "outputId": "4025812b-67c4-488d-ee31-cabd1045fae9"
      },
      "outputs": [
        {
          "output_type": "execute_result",
          "data": {
            "text/plain": [
              "         공급일자 요일  공급월  공급주차        회원번호 조합원상태 물품대분류  물품중분류     물품소분류  \\\n",
              "0  2018-01-02  화    1     1   272369856  정상회원    과실     과일        사과   \n",
              "1  2018-01-02  화    1     1  1506656256  정상회원    채소     버섯     느타리버섯   \n",
              "2  2018-01-02  화    1     1  1506656256  정상회원   축산물      알       유정란   \n",
              "3  2018-01-02  화    1     1  1023108864  정상회원    반찬  두부/유부        두부   \n",
              "4  2018-01-02  화    1     1  1476143616  정상회원    간식      빵  식빵, 식사대용   \n",
              "\n",
              "                물품명  구매수량 주소-구  주소-동 성별    연령    연령대   구매금액 구매매장  반품_원거래일자  \\\n",
              "0       사과/유(1.5kg)   1.0  수지구  풍덕천동  여  45.0    40대  22207  매장C       NaN   \n",
              "1       느타리버섯(300g)   1.0  수지구  풍덕천동  여  36.0  30대이하   4977  매장C       NaN   \n",
              "2  유정란/매장용(10알/국내산)   1.0  수지구  풍덕천동  여  36.0  30대이하   7083  매장C       NaN   \n",
              "3         연두부(100g)   1.0  수지구  풍덕천동  여  36.0  30대이하    766  매장C       NaN   \n",
              "4   아침빵(240g/8개)/매장   1.0  수지구  풍덕천동  여  34.0  30대이하   4403  매장C       NaN   \n",
              "\n",
              "    구매시각  \n",
              "0  10:04  \n",
              "1  10:05  \n",
              "2  10:05  \n",
              "3  10:08  \n",
              "4  10:09  "
            ],
            "text/html": [
              "\n",
              "  <div id=\"df-57072214-e397-47bc-b294-d5e6ca5f93e8\" class=\"colab-df-container\">\n",
              "    <div>\n",
              "<style scoped>\n",
              "    .dataframe tbody tr th:only-of-type {\n",
              "        vertical-align: middle;\n",
              "    }\n",
              "\n",
              "    .dataframe tbody tr th {\n",
              "        vertical-align: top;\n",
              "    }\n",
              "\n",
              "    .dataframe thead th {\n",
              "        text-align: right;\n",
              "    }\n",
              "</style>\n",
              "<table border=\"1\" class=\"dataframe\">\n",
              "  <thead>\n",
              "    <tr style=\"text-align: right;\">\n",
              "      <th></th>\n",
              "      <th>공급일자</th>\n",
              "      <th>요일</th>\n",
              "      <th>공급월</th>\n",
              "      <th>공급주차</th>\n",
              "      <th>회원번호</th>\n",
              "      <th>조합원상태</th>\n",
              "      <th>물품대분류</th>\n",
              "      <th>물품중분류</th>\n",
              "      <th>물품소분류</th>\n",
              "      <th>물품명</th>\n",
              "      <th>구매수량</th>\n",
              "      <th>주소-구</th>\n",
              "      <th>주소-동</th>\n",
              "      <th>성별</th>\n",
              "      <th>연령</th>\n",
              "      <th>연령대</th>\n",
              "      <th>구매금액</th>\n",
              "      <th>구매매장</th>\n",
              "      <th>반품_원거래일자</th>\n",
              "      <th>구매시각</th>\n",
              "    </tr>\n",
              "  </thead>\n",
              "  <tbody>\n",
              "    <tr>\n",
              "      <th>0</th>\n",
              "      <td>2018-01-02</td>\n",
              "      <td>화</td>\n",
              "      <td>1</td>\n",
              "      <td>1</td>\n",
              "      <td>272369856</td>\n",
              "      <td>정상회원</td>\n",
              "      <td>과실</td>\n",
              "      <td>과일</td>\n",
              "      <td>사과</td>\n",
              "      <td>사과/유(1.5kg)</td>\n",
              "      <td>1.0</td>\n",
              "      <td>수지구</td>\n",
              "      <td>풍덕천동</td>\n",
              "      <td>여</td>\n",
              "      <td>45.0</td>\n",
              "      <td>40대</td>\n",
              "      <td>22207</td>\n",
              "      <td>매장C</td>\n",
              "      <td>NaN</td>\n",
              "      <td>10:04</td>\n",
              "    </tr>\n",
              "    <tr>\n",
              "      <th>1</th>\n",
              "      <td>2018-01-02</td>\n",
              "      <td>화</td>\n",
              "      <td>1</td>\n",
              "      <td>1</td>\n",
              "      <td>1506656256</td>\n",
              "      <td>정상회원</td>\n",
              "      <td>채소</td>\n",
              "      <td>버섯</td>\n",
              "      <td>느타리버섯</td>\n",
              "      <td>느타리버섯(300g)</td>\n",
              "      <td>1.0</td>\n",
              "      <td>수지구</td>\n",
              "      <td>풍덕천동</td>\n",
              "      <td>여</td>\n",
              "      <td>36.0</td>\n",
              "      <td>30대이하</td>\n",
              "      <td>4977</td>\n",
              "      <td>매장C</td>\n",
              "      <td>NaN</td>\n",
              "      <td>10:05</td>\n",
              "    </tr>\n",
              "    <tr>\n",
              "      <th>2</th>\n",
              "      <td>2018-01-02</td>\n",
              "      <td>화</td>\n",
              "      <td>1</td>\n",
              "      <td>1</td>\n",
              "      <td>1506656256</td>\n",
              "      <td>정상회원</td>\n",
              "      <td>축산물</td>\n",
              "      <td>알</td>\n",
              "      <td>유정란</td>\n",
              "      <td>유정란/매장용(10알/국내산)</td>\n",
              "      <td>1.0</td>\n",
              "      <td>수지구</td>\n",
              "      <td>풍덕천동</td>\n",
              "      <td>여</td>\n",
              "      <td>36.0</td>\n",
              "      <td>30대이하</td>\n",
              "      <td>7083</td>\n",
              "      <td>매장C</td>\n",
              "      <td>NaN</td>\n",
              "      <td>10:05</td>\n",
              "    </tr>\n",
              "    <tr>\n",
              "      <th>3</th>\n",
              "      <td>2018-01-02</td>\n",
              "      <td>화</td>\n",
              "      <td>1</td>\n",
              "      <td>1</td>\n",
              "      <td>1023108864</td>\n",
              "      <td>정상회원</td>\n",
              "      <td>반찬</td>\n",
              "      <td>두부/유부</td>\n",
              "      <td>두부</td>\n",
              "      <td>연두부(100g)</td>\n",
              "      <td>1.0</td>\n",
              "      <td>수지구</td>\n",
              "      <td>풍덕천동</td>\n",
              "      <td>여</td>\n",
              "      <td>36.0</td>\n",
              "      <td>30대이하</td>\n",
              "      <td>766</td>\n",
              "      <td>매장C</td>\n",
              "      <td>NaN</td>\n",
              "      <td>10:08</td>\n",
              "    </tr>\n",
              "    <tr>\n",
              "      <th>4</th>\n",
              "      <td>2018-01-02</td>\n",
              "      <td>화</td>\n",
              "      <td>1</td>\n",
              "      <td>1</td>\n",
              "      <td>1476143616</td>\n",
              "      <td>정상회원</td>\n",
              "      <td>간식</td>\n",
              "      <td>빵</td>\n",
              "      <td>식빵, 식사대용</td>\n",
              "      <td>아침빵(240g/8개)/매장</td>\n",
              "      <td>1.0</td>\n",
              "      <td>수지구</td>\n",
              "      <td>풍덕천동</td>\n",
              "      <td>여</td>\n",
              "      <td>34.0</td>\n",
              "      <td>30대이하</td>\n",
              "      <td>4403</td>\n",
              "      <td>매장C</td>\n",
              "      <td>NaN</td>\n",
              "      <td>10:09</td>\n",
              "    </tr>\n",
              "  </tbody>\n",
              "</table>\n",
              "</div>\n",
              "    <div class=\"colab-df-buttons\">\n",
              "\n",
              "  <div class=\"colab-df-container\">\n",
              "    <button class=\"colab-df-convert\" onclick=\"convertToInteractive('df-57072214-e397-47bc-b294-d5e6ca5f93e8')\"\n",
              "            title=\"Convert this dataframe to an interactive table.\"\n",
              "            style=\"display:none;\">\n",
              "\n",
              "  <svg xmlns=\"http://www.w3.org/2000/svg\" height=\"24px\" viewBox=\"0 -960 960 960\">\n",
              "    <path d=\"M120-120v-720h720v720H120Zm60-500h600v-160H180v160Zm220 220h160v-160H400v160Zm0 220h160v-160H400v160ZM180-400h160v-160H180v160Zm440 0h160v-160H620v160ZM180-180h160v-160H180v160Zm440 0h160v-160H620v160Z\"/>\n",
              "  </svg>\n",
              "    </button>\n",
              "\n",
              "  <style>\n",
              "    .colab-df-container {\n",
              "      display:flex;\n",
              "      gap: 12px;\n",
              "    }\n",
              "\n",
              "    .colab-df-convert {\n",
              "      background-color: #E8F0FE;\n",
              "      border: none;\n",
              "      border-radius: 50%;\n",
              "      cursor: pointer;\n",
              "      display: none;\n",
              "      fill: #1967D2;\n",
              "      height: 32px;\n",
              "      padding: 0 0 0 0;\n",
              "      width: 32px;\n",
              "    }\n",
              "\n",
              "    .colab-df-convert:hover {\n",
              "      background-color: #E2EBFA;\n",
              "      box-shadow: 0px 1px 2px rgba(60, 64, 67, 0.3), 0px 1px 3px 1px rgba(60, 64, 67, 0.15);\n",
              "      fill: #174EA6;\n",
              "    }\n",
              "\n",
              "    .colab-df-buttons div {\n",
              "      margin-bottom: 4px;\n",
              "    }\n",
              "\n",
              "    [theme=dark] .colab-df-convert {\n",
              "      background-color: #3B4455;\n",
              "      fill: #D2E3FC;\n",
              "    }\n",
              "\n",
              "    [theme=dark] .colab-df-convert:hover {\n",
              "      background-color: #434B5C;\n",
              "      box-shadow: 0px 1px 3px 1px rgba(0, 0, 0, 0.15);\n",
              "      filter: drop-shadow(0px 1px 2px rgba(0, 0, 0, 0.3));\n",
              "      fill: #FFFFFF;\n",
              "    }\n",
              "  </style>\n",
              "\n",
              "    <script>\n",
              "      const buttonEl =\n",
              "        document.querySelector('#df-57072214-e397-47bc-b294-d5e6ca5f93e8 button.colab-df-convert');\n",
              "      buttonEl.style.display =\n",
              "        google.colab.kernel.accessAllowed ? 'block' : 'none';\n",
              "\n",
              "      async function convertToInteractive(key) {\n",
              "        const element = document.querySelector('#df-57072214-e397-47bc-b294-d5e6ca5f93e8');\n",
              "        const dataTable =\n",
              "          await google.colab.kernel.invokeFunction('convertToInteractive',\n",
              "                                                    [key], {});\n",
              "        if (!dataTable) return;\n",
              "\n",
              "        const docLinkHtml = 'Like what you see? Visit the ' +\n",
              "          '<a target=\"_blank\" href=https://colab.research.google.com/notebooks/data_table.ipynb>data table notebook</a>'\n",
              "          + ' to learn more about interactive tables.';\n",
              "        element.innerHTML = '';\n",
              "        dataTable['output_type'] = 'display_data';\n",
              "        await google.colab.output.renderOutput(dataTable, element);\n",
              "        const docLink = document.createElement('div');\n",
              "        docLink.innerHTML = docLinkHtml;\n",
              "        element.appendChild(docLink);\n",
              "      }\n",
              "    </script>\n",
              "  </div>\n",
              "\n",
              "\n",
              "<div id=\"df-3fc2f0cf-114a-4fd5-97f9-aa052edc931e\">\n",
              "  <button class=\"colab-df-quickchart\" onclick=\"quickchart('df-3fc2f0cf-114a-4fd5-97f9-aa052edc931e')\"\n",
              "            title=\"Suggest charts\"\n",
              "            style=\"display:none;\">\n",
              "\n",
              "<svg xmlns=\"http://www.w3.org/2000/svg\" height=\"24px\"viewBox=\"0 0 24 24\"\n",
              "     width=\"24px\">\n",
              "    <g>\n",
              "        <path d=\"M19 3H5c-1.1 0-2 .9-2 2v14c0 1.1.9 2 2 2h14c1.1 0 2-.9 2-2V5c0-1.1-.9-2-2-2zM9 17H7v-7h2v7zm4 0h-2V7h2v10zm4 0h-2v-4h2v4z\"/>\n",
              "    </g>\n",
              "</svg>\n",
              "  </button>\n",
              "\n",
              "<style>\n",
              "  .colab-df-quickchart {\n",
              "      --bg-color: #E8F0FE;\n",
              "      --fill-color: #1967D2;\n",
              "      --hover-bg-color: #E2EBFA;\n",
              "      --hover-fill-color: #174EA6;\n",
              "      --disabled-fill-color: #AAA;\n",
              "      --disabled-bg-color: #DDD;\n",
              "  }\n",
              "\n",
              "  [theme=dark] .colab-df-quickchart {\n",
              "      --bg-color: #3B4455;\n",
              "      --fill-color: #D2E3FC;\n",
              "      --hover-bg-color: #434B5C;\n",
              "      --hover-fill-color: #FFFFFF;\n",
              "      --disabled-bg-color: #3B4455;\n",
              "      --disabled-fill-color: #666;\n",
              "  }\n",
              "\n",
              "  .colab-df-quickchart {\n",
              "    background-color: var(--bg-color);\n",
              "    border: none;\n",
              "    border-radius: 50%;\n",
              "    cursor: pointer;\n",
              "    display: none;\n",
              "    fill: var(--fill-color);\n",
              "    height: 32px;\n",
              "    padding: 0;\n",
              "    width: 32px;\n",
              "  }\n",
              "\n",
              "  .colab-df-quickchart:hover {\n",
              "    background-color: var(--hover-bg-color);\n",
              "    box-shadow: 0 1px 2px rgba(60, 64, 67, 0.3), 0 1px 3px 1px rgba(60, 64, 67, 0.15);\n",
              "    fill: var(--button-hover-fill-color);\n",
              "  }\n",
              "\n",
              "  .colab-df-quickchart-complete:disabled,\n",
              "  .colab-df-quickchart-complete:disabled:hover {\n",
              "    background-color: var(--disabled-bg-color);\n",
              "    fill: var(--disabled-fill-color);\n",
              "    box-shadow: none;\n",
              "  }\n",
              "\n",
              "  .colab-df-spinner {\n",
              "    border: 2px solid var(--fill-color);\n",
              "    border-color: transparent;\n",
              "    border-bottom-color: var(--fill-color);\n",
              "    animation:\n",
              "      spin 1s steps(1) infinite;\n",
              "  }\n",
              "\n",
              "  @keyframes spin {\n",
              "    0% {\n",
              "      border-color: transparent;\n",
              "      border-bottom-color: var(--fill-color);\n",
              "      border-left-color: var(--fill-color);\n",
              "    }\n",
              "    20% {\n",
              "      border-color: transparent;\n",
              "      border-left-color: var(--fill-color);\n",
              "      border-top-color: var(--fill-color);\n",
              "    }\n",
              "    30% {\n",
              "      border-color: transparent;\n",
              "      border-left-color: var(--fill-color);\n",
              "      border-top-color: var(--fill-color);\n",
              "      border-right-color: var(--fill-color);\n",
              "    }\n",
              "    40% {\n",
              "      border-color: transparent;\n",
              "      border-right-color: var(--fill-color);\n",
              "      border-top-color: var(--fill-color);\n",
              "    }\n",
              "    60% {\n",
              "      border-color: transparent;\n",
              "      border-right-color: var(--fill-color);\n",
              "    }\n",
              "    80% {\n",
              "      border-color: transparent;\n",
              "      border-right-color: var(--fill-color);\n",
              "      border-bottom-color: var(--fill-color);\n",
              "    }\n",
              "    90% {\n",
              "      border-color: transparent;\n",
              "      border-bottom-color: var(--fill-color);\n",
              "    }\n",
              "  }\n",
              "</style>\n",
              "\n",
              "  <script>\n",
              "    async function quickchart(key) {\n",
              "      const quickchartButtonEl =\n",
              "        document.querySelector('#' + key + ' button');\n",
              "      quickchartButtonEl.disabled = true;  // To prevent multiple clicks.\n",
              "      quickchartButtonEl.classList.add('colab-df-spinner');\n",
              "      try {\n",
              "        const charts = await google.colab.kernel.invokeFunction(\n",
              "            'suggestCharts', [key], {});\n",
              "      } catch (error) {\n",
              "        console.error('Error during call to suggestCharts:', error);\n",
              "      }\n",
              "      quickchartButtonEl.classList.remove('colab-df-spinner');\n",
              "      quickchartButtonEl.classList.add('colab-df-quickchart-complete');\n",
              "    }\n",
              "    (() => {\n",
              "      let quickchartButtonEl =\n",
              "        document.querySelector('#df-3fc2f0cf-114a-4fd5-97f9-aa052edc931e button');\n",
              "      quickchartButtonEl.style.display =\n",
              "        google.colab.kernel.accessAllowed ? 'block' : 'none';\n",
              "    })();\n",
              "  </script>\n",
              "</div>\n",
              "\n",
              "    </div>\n",
              "  </div>\n"
            ]
          },
          "metadata": {},
          "execution_count": 37
        }
      ],
      "source": [
        "import pandas as pd\n",
        "import seaborn as sns\n",
        "import scipy.stats as stats\n",
        "df_saleshistory = pd.read_csv('/content/fruitstore_saleshistory.csv')\n",
        "df_saleshistory[:5]"
      ]
    },
    {
      "cell_type": "markdown",
      "source": [
        "## 범주형/연속형"
      ],
      "metadata": {
        "id": "YGpz4nwS9REL"
      }
    },
    {
      "cell_type": "markdown",
      "source": [
        "### 이분산 : 요일별 고객의 구매 금액 분산이 이분산을 보이는지?\n",
        "\n"
      ],
      "metadata": {
        "id": "CE95Fdpp9Aiy"
      }
    },
    {
      "cell_type": "markdown",
      "source": [
        "#### 결측치, 이상치 확인"
      ],
      "metadata": {
        "id": "kFTHSrb4TCD9"
      }
    },
    {
      "cell_type": "code",
      "source": [
        "df_saleshistory.isnull().sum()\n",
        "# 요일과 구매 금액 column은 결측치 x"
      ],
      "metadata": {
        "colab": {
          "base_uri": "https://localhost:8080/"
        },
        "id": "7XwYKqvNu8px",
        "outputId": "d4e1700e-9762-402d-8b38-cfed6f756fbe"
      },
      "execution_count": 38,
      "outputs": [
        {
          "output_type": "execute_result",
          "data": {
            "text/plain": [
              "공급일자             0\n",
              "요일               0\n",
              "공급월              0\n",
              "공급주차             0\n",
              "회원번호             0\n",
              "조합원상태            0\n",
              "물품대분류            0\n",
              "물품중분류            0\n",
              "물품소분류            0\n",
              "물품명              0\n",
              "구매수량             0\n",
              "주소-구             0\n",
              "주소-동             0\n",
              "성별               5\n",
              "연령              33\n",
              "연령대             33\n",
              "구매금액             0\n",
              "구매매장             0\n",
              "반품_원거래일자    694337\n",
              "구매시각             0\n",
              "dtype: int64"
            ]
          },
          "metadata": {},
          "execution_count": 38
        }
      ]
    },
    {
      "cell_type": "code",
      "source": [
        "df_saleshistory['요일'].unique()"
      ],
      "metadata": {
        "colab": {
          "base_uri": "https://localhost:8080/"
        },
        "id": "o_rJ6onrzJ9x",
        "outputId": "4ce0b1c8-205d-447a-d305-1bb003ebfbab"
      },
      "execution_count": 39,
      "outputs": [
        {
          "output_type": "execute_result",
          "data": {
            "text/plain": [
              "array(['화', '수', '목', '금', '토', '일', '월'], dtype=object)"
            ]
          },
          "metadata": {},
          "execution_count": 39
        }
      ]
    },
    {
      "cell_type": "code",
      "source": [
        "df_saleshistory['구매금액'].unique()\n",
        "df_saleshistory['구매금액']"
      ],
      "metadata": {
        "colab": {
          "base_uri": "https://localhost:8080/"
        },
        "id": "_vZHa2qBzPio",
        "outputId": "8553ce3c-1721-4250-ec24-79c1990dea72"
      },
      "execution_count": 40,
      "outputs": [
        {
          "output_type": "execute_result",
          "data": {
            "text/plain": [
              "0         22207\n",
              "1          4977\n",
              "2          7083\n",
              "3           766\n",
              "4          4403\n",
              "          ...  \n",
              "705566     9189\n",
              "705567     5169\n",
              "705568     7466\n",
              "705569     3542\n",
              "705570     1914\n",
              "Name: 구매금액, Length: 705571, dtype: int64"
            ]
          },
          "metadata": {},
          "execution_count": 40
        }
      ]
    },
    {
      "cell_type": "markdown",
      "source": [
        "#### 요일별 구매금액 dataset 설정"
      ],
      "metadata": {
        "id": "D5i_d1rMDRju"
      }
    },
    {
      "cell_type": "code",
      "source": [
        "df_saleshistory_week_amount = df_saleshistory[['요일', '구매금액']]"
      ],
      "metadata": {
        "id": "iss1C-lV2La0"
      },
      "execution_count": 41,
      "outputs": []
    },
    {
      "cell_type": "code",
      "source": [
        "# df_saleshistory_pivot = pd.pivot_table(data=df_saleshistory, index='index', values=['구매금액', '요일'])\n",
        "# df_saleshistory_pivot"
      ],
      "metadata": {
        "id": "PIFYJ63bDWPO"
      },
      "execution_count": 42,
      "outputs": []
    },
    {
      "cell_type": "markdown",
      "source": [
        "1) 정규화 검증"
      ],
      "metadata": {
        "id": "LPaYCaqMAxNv"
      }
    },
    {
      "cell_type": "code",
      "source": [
        "df_saleshistory[\"구매금액\"].count()\n",
        "# 5000개 이상 Anderson test"
      ],
      "metadata": {
        "colab": {
          "base_uri": "https://localhost:8080/"
        },
        "id": "JT50Rpi558Cf",
        "outputId": "563886db-b03b-49cc-c4ab-30d6e0a31e51"
      },
      "execution_count": 43,
      "outputs": [
        {
          "output_type": "execute_result",
          "data": {
            "text/plain": [
              "705571"
            ]
          },
          "metadata": {},
          "execution_count": 43
        }
      ]
    },
    {
      "cell_type": "code",
      "source": [
        "# stats.anderson을 사용한 정규 분포 검정\n",
        "result = stats.anderson(df_saleshistory['구매금액'])\n",
        "print('Test Statistic: %.3f' % result.statistic)\n",
        "for i in range(len(result.critical_values)):\n",
        "    sl, cv = result.significance_level[i], result.critical_values[i]\n",
        "    if result.statistic < cv:\n",
        "        print('%.1f%% 수준에서 데이터는 정규 분포를 따름 (검정 통계량 %.3f < 임계값 %.3f)' % (sl, result.statistic, cv))\n",
        "    else:\n",
        "        print('%.1f%% 수준에서 데이터는 정규 분포를 따르지 않음 (검정 통계량 %.3f >= 임계값 %.3f)' % (sl, result.statistic, cv))\n",
        "# 비정규분포 / 범주형 3집단 이상"
      ],
      "metadata": {
        "colab": {
          "base_uri": "https://localhost:8080/"
        },
        "id": "ht4GnsOVA2Cf",
        "outputId": "b6f6eaf5-38a8-4336-b6c5-5a547f027e5d"
      },
      "execution_count": 44,
      "outputs": [
        {
          "output_type": "stream",
          "name": "stdout",
          "text": [
            "Test Statistic: 80887.237\n",
            "15.0% 수준에서 데이터는 정규 분포를 따르지 않음 (검정 통계량 80887.237 >= 임계값 0.576)\n",
            "10.0% 수준에서 데이터는 정규 분포를 따르지 않음 (검정 통계량 80887.237 >= 임계값 0.656)\n",
            "5.0% 수준에서 데이터는 정규 분포를 따르지 않음 (검정 통계량 80887.237 >= 임계값 0.787)\n",
            "2.5% 수준에서 데이터는 정규 분포를 따르지 않음 (검정 통계량 80887.237 >= 임계값 0.918)\n",
            "1.0% 수준에서 데이터는 정규 분포를 따르지 않음 (검정 통계량 80887.237 >= 임계값 1.092)\n"
          ]
        }
      ]
    },
    {
      "cell_type": "markdown",
      "source": [
        "#### 2) 범주형 3집단 Kruskal Test"
      ],
      "metadata": {
        "id": "s1DJXpdiBQQv"
      }
    },
    {
      "cell_type": "markdown",
      "source": [
        "##### 분석 내용 : 요일별 고객의 구매 금액 분산이 이분산을 보이는지?\n",
        "- 귀무 가설 : 요일별 고객의 구매 금액은 차이가 없다.\n",
        "- 대립 가설 : 요일별 고객의 구매 금액은 차이가 있다."
      ],
      "metadata": {
        "id": "7c7naFQPBQLu"
      }
    },
    {
      "cell_type": "code",
      "source": [
        "# 요일 범주 2개 이상(3집단 이상)\n",
        "week_list = df_saleshistory['요일'].value_counts().index.to_list()\n",
        "week_list"
      ],
      "metadata": {
        "colab": {
          "base_uri": "https://localhost:8080/"
        },
        "id": "jY9lCdGRA_DO",
        "outputId": "017a29d5-654c-4b77-d274-591ef1a4b833"
      },
      "execution_count": 49,
      "outputs": [
        {
          "output_type": "execute_result",
          "data": {
            "text/plain": [
              "['월', '화', '금', '수', '목', '토', '일']"
            ]
          },
          "metadata": {},
          "execution_count": 49
        }
      ]
    },
    {
      "cell_type": "code",
      "source": [
        "series_list = list()\n",
        "for week in week_list:\n",
        "  condition = f'요일 == \"{week}\"'\n",
        "  series_frequency = df_saleshistory_week_amount.query(condition)['구매금액'] # condition에 따른 amount series 작성\n",
        "  series_list.append(series_frequency)\n",
        "series_list"
      ],
      "metadata": {
        "colab": {
          "base_uri": "https://localhost:8080/"
        },
        "id": "xwuVKNvxBo-3",
        "outputId": "b4accc56-29d5-4143-fcb8-922159064124"
      },
      "execution_count": 50,
      "outputs": [
        {
          "output_type": "execute_result",
          "data": {
            "text/plain": [
              "[24177      2489\n",
              " 24178      7466\n",
              " 24179      7275\n",
              " 24180      5743\n",
              " 24181      7083\n",
              "           ...  \n",
              " 684182    50732\n",
              " 684183     2680\n",
              " 684184    10338\n",
              " 684185    11104\n",
              " 684186    23739\n",
              " Name: 구매금액, Length: 123802, dtype: int64,\n",
              " 0         22207\n",
              " 1          4977\n",
              " 2          7083\n",
              " 3           766\n",
              " 4          4403\n",
              "           ...  \n",
              " 687767     6700\n",
              " 687768     6318\n",
              " 687769    11486\n",
              " 687770      766\n",
              " 687771     4977\n",
              " Name: 구매금액, Length: 111196, dtype: int64,\n",
              " 13794      3733\n",
              " 13795      4499\n",
              " 13796      3063\n",
              " 13797      3829\n",
              " 13798     14932\n",
              "           ...  \n",
              " 700966     3733\n",
              " 700967    11678\n",
              " 700968     8423\n",
              " 700969     5743\n",
              " 700970     2489\n",
              " Name: 구매금액, Length: 109871, dtype: int64,\n",
              " 5067       7275\n",
              " 5068       4212\n",
              " 5069       8806\n",
              " 5070       2872\n",
              " 5071       2489\n",
              "           ...  \n",
              " 692621    22207\n",
              " 692622     9955\n",
              " 692623     4977\n",
              " 692624    15124\n",
              " 692625    26610\n",
              " Name: 구매금액, Length: 104990, dtype: int64,\n",
              " 9538       5169\n",
              " 9539      13784\n",
              " 9540      18953\n",
              " 9541       3637\n",
              " 9542       3733\n",
              "           ...  \n",
              " 696431     3542\n",
              " 696432     3542\n",
              " 696433     9572\n",
              " 696434     4020\n",
              " 696435    14932\n",
              " Name: 구매금액, Length: 104144, dtype: int64,\n",
              " 18129      4499\n",
              " 18130      9476\n",
              " 18131     16081\n",
              " 18132      5552\n",
              " 18133      8041\n",
              "           ...  \n",
              " 705566     9189\n",
              " 705567     5169\n",
              " 705568     7466\n",
              " 705569     3542\n",
              " 705570     1914\n",
              " Name: 구매금액, Length: 97491, dtype: int64,\n",
              " 22160      6509\n",
              " 22161      3637\n",
              " 22162      2489\n",
              " 22163      4977\n",
              " 22164     10912\n",
              "           ...  \n",
              " 678822    12635\n",
              " 678823    26610\n",
              " 678824     7658\n",
              " 678825    10338\n",
              " 678826     2106\n",
              " Name: 구매금액, Length: 54077, dtype: int64]"
            ]
          },
          "metadata": {},
          "execution_count": 50
        }
      ]
    },
    {
      "cell_type": "code",
      "source": [
        "stats.kruskal(*series_list)"
      ],
      "metadata": {
        "colab": {
          "base_uri": "https://localhost:8080/"
        },
        "id": "LeJC1fGyCL3n",
        "outputId": "e5466e69-f06a-4b58-e1f8-a0e1485ff0c9"
      },
      "execution_count": 51,
      "outputs": [
        {
          "output_type": "execute_result",
          "data": {
            "text/plain": [
              "KruskalResult(statistic=105.68763451021304, pvalue=1.6278456577231045e-20)"
            ]
          },
          "metadata": {},
          "execution_count": 51
        }
      ]
    },
    {
      "cell_type": "code",
      "source": [
        "round(1.6278456577231045e-2, 6)"
      ],
      "metadata": {
        "colab": {
          "base_uri": "https://localhost:8080/"
        },
        "id": "Gn4iSZSoCU91",
        "outputId": "8bfb5d0b-54b0-4635-916d-9b250241f1e0"
      },
      "execution_count": 48,
      "outputs": [
        {
          "output_type": "execute_result",
          "data": {
            "text/plain": [
              "0.016278"
            ]
          },
          "metadata": {},
          "execution_count": 48
        }
      ]
    },
    {
      "cell_type": "code",
      "source": [
        "# pvalue가 0.01(0.05보다 작다) = 대립가설 채택 = 요일별 고객의 구매 금액은 차이가 있다."
      ],
      "metadata": {
        "id": "JuI4utzmCYMl"
      },
      "execution_count": 48,
      "outputs": []
    },
    {
      "cell_type": "markdown",
      "source": [
        "## 분석 결과 : 요일별(범주형) 고객의 구매 금액(연속형)은 차이가 있다.\n",
        "- 통계 결론 : 대립 가설 성립\n",
        "- 사실 결론 : 요일별 구매 금액의 차이를 고려하여 요일별 주력 판매상품을 검토해볼 필요가 있다."
      ],
      "metadata": {
        "id": "pKJM1r_RDgA6"
      }
    }
  ]
}